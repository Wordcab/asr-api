{
 "cells": [
  {
   "attachments": {},
   "cell_type": "markdown",
   "metadata": {},
   "source": [
    "# Use this notebook to time the execution of two functions"
   ]
  },
  {
   "cell_type": "code",
   "execution_count": 1,
   "metadata": {},
   "outputs": [],
   "source": [
    "import timeit\n",
    "\n",
    "import torch\n",
    "import torch.nn.functional as F"
   ]
  },
  {
   "attachments": {},
   "cell_type": "markdown",
   "metadata": {},
   "source": [
    "## Argmin on CPU or GPU"
   ]
  },
  {
   "cell_type": "code",
   "execution_count": 13,
   "metadata": {},
   "outputs": [
    {
     "name": "stdout",
     "output_type": "stream",
     "text": [
      "Time taken on CPU (10 passes): 0.014017 seconds\n",
      "Time taken on GPU (10 passes): 2.575309 seconds\n"
     ]
    }
   ],
   "source": [
    "from typing import List\n",
    "\n",
    "\n",
    "def get_argmin_mapping_list_cpu(timestamps_in_scales: List[torch.Tensor]) -> List[torch.Tensor]:\n",
    "    \"\"\"Calculate the mapping between the base scale and other scales.\n",
    "\n",
    "    A segment from a longer scale is repeatedly mapped to a segment from a shorter scale or the base scale.\n",
    "\n",
    "    Args:\n",
    "        timestamps_in_scales (list):\n",
    "            List containing timestamp tensors for each scale.\n",
    "            Each tensor has dimensions of (Number of base segments) x 2.\n",
    "\n",
    "    Returns:\n",
    "        session_scale_mapping_list (list):\n",
    "            List containing argmin arrays indexed by scale index.\n",
    "    \"\"\"\n",
    "    scale_list = list(range(len(timestamps_in_scales)))\n",
    "    segment_anchor_list = [torch.mean(timestamps_in_scales[scale_idx], dim=1) for scale_idx in scale_list]\n",
    "\n",
    "    base_scale_anchor = segment_anchor_list[max(scale_list)].view(-1, 1)\n",
    "\n",
    "    session_scale_mapping_list = []\n",
    "    for scale_idx in scale_list:\n",
    "        current_scale_anchor = segment_anchor_list[scale_idx].view(1, -1)\n",
    "        distance = torch.abs(current_scale_anchor - base_scale_anchor)\n",
    "        argmin_mat = torch.argmin(distance, dim=1)\n",
    "        session_scale_mapping_list.append(argmin_mat)\n",
    "\n",
    "    return session_scale_mapping_list\n",
    "\n",
    "def get_argmin_mapping_list_gpu(timestamps_in_scales: List[torch.Tensor]) -> List[torch.Tensor]:\n",
    "    \"\"\"Calculate the mapping between the base scale and other scales.\n",
    "\n",
    "    A segment from a longer scale is repeatedly mapped to a segment from a shorter scale or the base scale.\n",
    "\n",
    "    Args:\n",
    "        timestamps_in_scales (list):\n",
    "            List containing timestamp tensors for each scale.\n",
    "            Each tensor has dimensions of (Number of base segments) x 2.\n",
    "\n",
    "    Returns:\n",
    "        session_scale_mapping_list (list):\n",
    "            List containing argmin arrays indexed by scale index.\n",
    "    \"\"\"\n",
    "    timestamps_in_scales = [x.to('cuda') for x in timestamps_in_scales]\n",
    "    \n",
    "    scale_list = list(range(len(timestamps_in_scales)))\n",
    "    segment_anchor_list = [torch.mean(timestamps_in_scales[scale_idx], dim=1) for scale_idx in scale_list]\n",
    "\n",
    "    base_scale_anchor = segment_anchor_list[max(scale_list)].view(-1, 1)\n",
    "\n",
    "    session_scale_mapping_list = []\n",
    "    for scale_idx in scale_list:\n",
    "        current_scale_anchor = segment_anchor_list[scale_idx].view(1, -1)\n",
    "        distance = torch.abs(current_scale_anchor - base_scale_anchor)\n",
    "        argmin_mat = torch.argmin(distance, dim=1)\n",
    "        session_scale_mapping_list.append(argmin_mat)\n",
    "\n",
    "    return session_scale_mapping_list\n",
    "\n",
    "# Generate a random list of timestamps for each scale (each scale has a different number of timestamps)\n",
    "scales = [52, 89, 123, 196, 254]\n",
    "timestamps_in_scales = [torch.rand((s, 2)) for s in scales]\n",
    "\n",
    "num_passes = 10\n",
    "time_taken_cpu = timeit.timeit(\n",
    "    lambda: get_argmin_mapping_list_cpu(timestamps_in_scales), number=num_passes,\n",
    ")\n",
    "time_taken_gpu = timeit.timeit(\n",
    "    lambda: get_argmin_mapping_list_gpu(timestamps_in_scales), number=num_passes,\n",
    ")\n",
    "\n",
    "print(\"Time taken on CPU ({} passes): {:.6f} seconds\".format(num_passes, time_taken_cpu))\n",
    "print(\"Time taken on GPU ({} passes): {:.6f} seconds\".format(num_passes, time_taken_gpu))"
   ]
  },
  {
   "cell_type": "code",
   "execution_count": null,
   "metadata": {},
   "outputs": [],
   "source": []
  }
 ],
 "metadata": {
  "kernelspec": {
   "display_name": "base",
   "language": "python",
   "name": "python3"
  },
  "language_info": {
   "codemirror_mode": {
    "name": "ipython",
    "version": 3
   },
   "file_extension": ".py",
   "mimetype": "text/x-python",
   "name": "python",
   "nbconvert_exporter": "python",
   "pygments_lexer": "ipython3",
   "version": "3.10.11"
  },
  "orig_nbformat": 4
 },
 "nbformat": 4,
 "nbformat_minor": 2
}
